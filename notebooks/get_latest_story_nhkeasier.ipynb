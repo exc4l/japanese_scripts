{
 "cells": [
  {
   "cell_type": "code",
   "execution_count": 8,
   "metadata": {},
   "outputs": [],
   "source": [
    "import requests\n",
    "from bs4 import BeautifulSoup"
   ]
  },
  {
   "cell_type": "code",
   "execution_count": 14,
   "metadata": {},
   "outputs": [],
   "source": [
    "response = requests.get('https://nhkeasier.com/')\n",
    "#response = requests.get('https://nhkeasier.com/feed/')"
   ]
  },
  {
   "cell_type": "code",
   "execution_count": 15,
   "metadata": {
    "scrolled": true
   },
   "outputs": [
    {
     "data": {
      "text/plain": [
       "'\\n<!DOCTYPE html>\\n<html lang=en>\\n<head>\\n<meta charset=\"utf-8\">\\n<meta name=\"viewport\" content=\"width=device-width, initial-scale=1.0, user-scalable=yes\">\\n<meta name=\"flattr:id\" content=\"w150z0\">\\n<title>Easier Japanese Practice | NHK News Web Easier</title>\\n<meta property=\"og:site_name\" content=\"NHKEasier\" />\\n<meta property=\"og:title\" content=\"Easier Japanese Practice\" />\\n<meta property=\"og:type\" content=\"article\" />\\n<meta property=\"og:url\" content=\"https://nhkeasier.com/\" />\\n\\n    <meta name=\"description\" content=\"Come practice reading and listening to Japanese with recent news stories! Simple vocabulary, simple kanji and simple sentence structures, as well as kanji readings (furigana) and an integrated dictionary will let you train until you get more comfortable for harder materials.\">\\n    <meta property=\"og:description\" content=\"Come practice reading and listening to Japanese with recent news stories! Simple vocabulary, simple kanji and simple sentence structures, as well as kanji readings (furigana) and an integrated dictionary will let you train until you get more comfortable for harder materials.\" />\\n\\n\\n    <meta property=\"og:image\" content=\"https://nhkeasier.com/media/jpg/k10012707651000.jpg\" />\\n    <meta property=\"og:image:width\" content=\"640\" />\\n    <meta property=\"og:image:height\" content=\"360\" />\\n    <meta name=\"twitter:card\" content=\"summary_large_image\" />\\n\\n\\n    <meta name=\"twitter:card\" content=\"player\">\\n    <meta name=\"twitter:player\" content=\"https://nhkeasier.com/player/4302/\">\\n    <meta name=\"twitter:player:width\" content=\"640\">\\n    <meta name=\"twitter:player:height\" content=\"360\">\\n\\n<link rel=\"icon\" href=\"/static/favicon.png\">\\n<link rel=\"stylesheet\" href=\"/static/bootstrap.min.css\">\\n<link rel=\"stylesheet\" href=\"/static/style.css\">\\n<link rel=\"alternate\" href=\"/feed/\" title=\"NHKEasier Stories\" type=\"application/rss+xml\">\\n</head>\\n<body>\\n<header>\\n    <h1><a href=\"/\">NHK News Web <ruby>Easier<rt>イーシア</rt></ruby></a></h1>\\n    <div id=\"ruby-toggles\">\\n        <ul>\\n            <li>\\n                <label>\\n                    <input type=\"radio\" name=\"ruby-toggle\" value=\"always\">\\n                    <img src=\"/static/always.svg\" alt=\"Always show furigana\" title=\"Always show furigana\">\\n                </label>\\n            </li>\\n            <li>\\n                <label>\\n                    <input type=\"radio\" name=\"ruby-toggle\" value=\"hover\" checked>\\n                    <img src=\"/static/hover.svg\" alt=\"Show furigana on hover\" title=\"Show on hover furigana\">\\n                </label>\\n            </li>\\n            <li>\\n                <label>\\n                    <input type=\"radio\" name=\"ruby-toggle\" value=\"never\">\\n                    <img src=\"/static/never.svg\" alt=\"Never show furigana\" title=\"Never show furigana\">\\n                </label>\\n            </li>\\n        </ul>\\n        <div id=\"ruby-toggles-helper\">\\n            Press <span class=\"key\">F</span> to toggle furigana\\n        </div>\\n    </div>\\n    <nav>\\n        <ul>\\n            <li><a href=\"/\">Home</a></li>\\n            <li><a href=\"/contact/\">Contact</a></li>\\n            <li><a href=\"/about/\">About</a></li>\\n        </ul>\\n    </nav>\\n</header>\\n<main>\\n<h2>Latest Stories</h2>\\n\\n<p>\\nPractice Japanese on real news from <a\\nhref=\"https://www3.nhk.or.jp/news/easy/\">NHK News Web Easy</a> even more\\neasily. Just try moving your cursor above kanji and difficult words (desktop\\nand laptops) or touching them (smartphones and tablets). You can also subscribe to the\\n<a href=\"/feed/\">RSS feed<img src=\"/static/feed-icon.svg\" alt=\"RSS feed\" class=\"feed-icon\"></a>.\\n</p>\\n<p>\\nFor some more stories, visit <a href=\"https://slow-communication.jp/\">Slow Communication</a>.\\n</p>\\n<nav><ul>\\n    <li><a href=\"/2020/11/12/\">Older stories</a></li>\\n    <li><a href=\"/2020/11/13/\">2020-11-13</a></li>\\n    <li></li>\\n</ul></nav>\\n\\n\\n\\n<article lang=ja>\\n<h3>ソニーとマイクロソフトが<ruby>新<rt>あたら</rt></ruby>しいゲームの<ruby>機械<rt>きかい</rt></ruby>を<ruby>売<rt>う</rt></ruby>り<ruby>始<rt>はじ</rt></ruby>める</h3>\\n<h4><a href=\"/story/4302/\"><time datetime=\"2020-11-13T07:50:00+00:00\">2020-11-13 16:50:00 +0900 (JST)</time></a></h4>\\n\\n\\n    <video src=\"/media/mp4/k10012707651000.reencoded.mp4\" poster=\"/media/jpg/k10012707651000.jpg\" preload=\"none\" controls></video>\\n\\n<p><ruby>新<rt>あたら</rt></ruby>しいコロナウイルスの<ruby>問題<rt>もんだい</rt></ruby>があって、<ruby>家<rt>いえ</rt></ruby>でゲームを<ruby>楽<rt>たの</rt></ruby>しむ<ruby>人<rt>ひと</rt></ruby>が<ruby>増<rt>ふ</rt></ruby>えています。ソニーとマイクロソフトは、２０１３<ruby>年<rt>ねん</rt></ruby>のあと<ruby>初<rt>はじ</rt></ruby>めて、<ruby>新<rt>あたら</rt></ruby>しいゲームの<ruby>機械<rt>きかい</rt></ruby>を<ruby>売<rt>う</rt></ruby>り<ruby>始<rt>はじ</rt></ruby>めました。</p>\\n<p>ソニーは１２<ruby>日<rt>にち</rt></ruby>、「プレイステーション５」を<ruby>売<rt>う</rt></ruby>り<ruby>始<rt>はじ</rt></ruby>めました。<ruby>店<rt>みせ</rt></ruby>に<ruby>人<rt>ひと</rt></ruby>がたくさん<ruby>集<rt>あつ</rt></ruby>まらないように、<ruby>予約<rt>よやく</rt></ruby>していない<ruby>人<rt>ひと</rt></ruby>に<ruby>店<rt>みせ</rt></ruby>で<ruby>売<rt>う</rt></ruby>ることはやめました。<ruby>手<rt>て</rt></ruby>に<ruby>持<rt>も</rt></ruby>つコントローラーがゲームと<ruby>一緒<rt>いっしょ</rt></ruby>に<ruby>揺<rt>ゆ</rt></ruby>れたり、ボタンを<ruby>押<rt>お</rt></ruby>すとき<ruby>強<rt>つよ</rt></ruby>い<ruby>力<rt>ちから</rt></ruby>が<ruby>必要<rt>ひつよう</rt></ruby>だったりして、<ruby>体<rt>からだ</rt></ruby>で<ruby>感<rt>かん</rt></ruby>じながら<ruby>楽<rt>たの</rt></ruby>しむことができます。</p>\\n<p>マイクロソフトは<ruby>１０日<rt>とおか</rt></ruby>、<ruby>新<rt>あたら</rt></ruby>しい「Ｘｂｏｘ」を<ruby>売<rt>う</rt></ruby>り<ruby>始<rt>はじ</rt></ruby>めました。<ruby>映像<rt>えいぞう</rt></ruby>がきれいで、ゲームの<ruby>動<rt>うご</rt></ruby>きがとても<ruby>速<rt>はや</rt></ruby>いです。</p>\\n<p><ruby>今年<rt>ことし</rt></ruby>は、クリスマスのプレゼントなどにゲームの<ruby>機械<rt>きかい</rt></ruby>を<ruby>買<rt>か</rt></ruby>う<ruby>人<rt>ひと</rt></ruby>が<ruby>多<rt>おお</rt></ruby>くなりそうで、ゲームの<ruby>会社<rt>かいしゃ</rt></ruby>の<ruby>競争<rt>きょうそう</rt></ruby>が<ruby>激<rt>はげ</rt></ruby>しくなっています。</p>\\n<audio src=\"/media/mp3/k10012707651000.mp3\" controls preload=\"none\"></audio>\\n\\n<table class=\"links\">\\n    <td>\\n        \\n            <a href=\"https://www.reddit.com/r/NHKEasyNews/comments/jtd61a/11132020_ソニーとマイクロソフトが新しいゲームの機械を売り始める/\">/r/NHKEasyNews</a></td>\\n        \\n    </td>\\n    <td>\\n    \\n        <a href=\"https://www3.nhk.or.jp/news/easy/k10012707651000/k10012707651000.html\">Original</a>\\n    \\n    </td>\\n    <td>\\n        <a href=\"/story/4302/\" class=\"permalink\">Permalink</a>\\n    </td>\\n</table>\\n\\n</article>\\n\\n\\n\\n<article lang=ja>\\n<h3><ruby>新<rt>あたら</rt></ruby>しいコロナウイルス\\u3000「<ruby>変化<rt>へんか</rt></ruby>したウイルスはうつりやすい」</h3>\\n<h4><a href=\"/story/4301/\"><time datetime=\"2020-11-13T07:50:00+00:00\">2020-11-13 16:50:00 +0900 (JST)</time></a></h4>\\n\\n\\n    <img src=\"/media/jpg/k10012709341000.jpg\" alt=\"Story illustration\">\\n\\n<p><ruby>新<rt>あたら</rt></ruby>しいコロナウイルスがうつった<ruby>人<rt>ひと</rt></ruby>は１２<ruby>日<rt>にち</rt></ruby>、１６６１<ruby>人<rt>にん</rt></ruby>いました。<ruby>今<rt>いま</rt></ruby>までで、いちばん<ruby>多<rt>おお</rt></ruby>くなりました。</p>\\n<p><ruby>東京大学<rt>とうきょうだいがく</rt></ruby>などのグループは、<ruby>中国<rt>ちゅうごく</rt></ruby>の<ruby>武漢<rt>ぶかん</rt></ruby>で<ruby>最初<rt>さいしょ</rt></ruby>に<ruby>見<rt>み</rt></ruby>つかった<ruby>新<rt>あたら</rt></ruby>しいコロナウイルスと、たんぱく<ruby>質<rt>しつ</rt></ruby>が<ruby>少<rt>すこ</rt></ruby>し<ruby>変化<rt>へんか</rt></ruby>したウイルスを<ruby>比<rt>くら</rt></ruby>べる<ruby>実験<rt>じっけん</rt></ruby>をしました。<ruby>今<rt>いま</rt></ruby><ruby>世界中<rt>せかいじゅう</rt></ruby>で<ruby>広<rt>ひろ</rt></ruby>がっているのは、<ruby>変化<rt>へんか</rt></ruby>したウイルスです。</p>\\n<p>グループは、２つのウイルスが、<ruby>隣<rt>となり</rt></ruby>のおりにいるハムスターにどのくらいうつるか<ruby>調<rt>しら</rt></ruby>べました。<ruby>２日<rt>ふつか</rt></ruby>あとにチェックすると、<ruby>最初<rt>さいしょ</rt></ruby>のウイルスは<ruby>隣<rt>となり</rt></ruby>のおりにいるハムスターにうつりませんでした。<ruby>変化<rt>へんか</rt></ruby>したウイルスは、８<ruby>匹<rt>ぴき</rt></ruby>のうち５<ruby>匹<rt>ひき</rt></ruby>にうつりました。グループは、<ruby>変化<rt>へんか</rt></ruby>したウイルスのほうが、うつりやすいと<ruby>考<rt>かんが</rt></ruby>えています。</p>\\n<p>グループは、<ruby>変化<rt>へんか</rt></ruby>したウイルスが<ruby>短<rt>みじか</rt></ruby>い<ruby>時間<rt>じかん</rt></ruby>で<ruby>広<rt>ひろ</rt></ruby>がった<ruby>理由<rt>りゆう</rt></ruby>がわかったと<ruby>言<rt>い</rt></ruby>っています。</p>\\n<audio src=\"/media/mp3/k10012709341000.mp3\" controls preload=\"none\"></audio>\\n\\n<table class=\"links\">\\n    <td>\\n        \\n            <a href=\"https://www.reddit.com/r/NHKEasyNews/comments/jtd619/11132020_新しいコロナウイルス_変化したウイルスはうつりやすい/\">/r/NHKEasyNews</a></td>\\n        \\n    </td>\\n    <td>\\n    \\n        <a href=\"https://www3.nhk.or.jp/news/easy/k10012709341000/k10012709341000.html\">Original</a>\\n    \\n    </td>\\n    <td>\\n        <a href=\"/story/4301/\" class=\"permalink\">Permalink</a>\\n    </td>\\n</table>\\n\\n</article>\\n\\n\\n\\n<article lang=ja>\\n<h3>ホンダ\\u3000<ruby>高速道路<rt>こうそくどうろ</rt></ruby>が<ruby>混<rt>こ</rt></ruby>んでいるとき<ruby>自動<rt>じどう</rt></ruby>で<ruby>運転<rt>うんてん</rt></ruby>できる<ruby>車<rt>くるま</rt></ruby>を<ruby>売<rt>う</rt></ruby>る</h3>\\n<h4><a href=\"/story/4300/\"><time datetime=\"2020-11-13T03:00:00+00:00\">2020-11-13 12:00:00 +0900 (JST)</time></a></h4>\\n\\n\\n    <img src=\"/media/jpg/k10012705771000.jpg\" alt=\"Story illustration\">\\n\\n<p>ホンダは、<ruby>高速道路<rt>こうそくどうろ</rt></ruby>が<ruby>混<rt>こ</rt></ruby>んでいて<ruby>時速<rt>じそく</rt></ruby>５０ｋｍ<ruby>以下<rt>いか</rt></ruby>で<ruby>走<rt>はし</rt></ruby>っている<ruby>場合<rt>ばあい</rt></ruby>などに、<ruby>人<rt>ひと</rt></ruby>が<ruby>運転<rt>うんてん</rt></ruby>しなくても<ruby>全部<rt>ぜんぶ</rt></ruby><ruby>自動<rt>じどう</rt></ruby>で<ruby>走<rt>はし</rt></ruby>ることができる<ruby>車<rt>くるま</rt></ruby>を<ruby>作<rt>つく</rt></ruby>りました。</p>\\n<p><ruby>国土交通省<rt>こくどこうつうしょう</rt></ruby>は、ホンダの<ruby>車<rt>くるま</rt></ruby>の<ruby>安全<rt>あんぜん</rt></ruby>をチェックして、<ruby>国<rt>くに</rt></ruby>が<ruby>決<rt>き</rt></ruby>めた<ruby>基準<rt>きじゅん</rt></ruby>に<ruby>合<rt>あ</rt></ruby>っていると<ruby>言<rt>い</rt></ruby>いました。ホンダは<ruby>来年<rt>らいねん</rt></ruby>３<ruby>月<rt>がつ</rt></ruby>の<ruby>終<rt>お</rt></ruby>わりまでに<ruby>車<rt>くるま</rt></ruby>を<ruby>売<rt>う</rt></ruby>り<ruby>始<rt>はじ</rt></ruby>めようと<ruby>考<rt>かんが</rt></ruby>えています。</p>\\n<p><ruby>自動<rt>じどう</rt></ruby><ruby>運転<rt>うんてん</rt></ruby>の<ruby>技術<rt>ぎじゅつ</rt></ruby>は、どのくらい<ruby>自動<rt>じどう</rt></ruby>で<ruby>運転<rt>うんてん</rt></ruby>できるかで５つのレベルがあります。ホンダの<ruby>車<rt>くるま</rt></ruby>はレベル３です。レベル３の<ruby>車<rt>くるま</rt></ruby>を<ruby>売<rt>う</rt></ruby>るのは<ruby>世界<rt>せかい</rt></ruby>で<ruby>初<rt>はじ</rt></ruby>めてです。</p>\\n<p><ruby>世界<rt>せかい</rt></ruby>ではＩＴの<ruby>会社<rt>かいしゃ</rt></ruby>なども<ruby>自動<rt>じどう</rt></ruby><ruby>運転<rt>うんてん</rt></ruby>の<ruby>車<rt>くるま</rt></ruby>を<ruby>作<rt>つく</rt></ruby>ろうとしていて、<ruby>激<rt>はげ</rt></ruby>しい<ruby>競争<rt>きょうそう</rt></ruby>になっています。</p>\\n<audio src=\"/media/mp3/k10012705771000.mp3\" controls preload=\"none\"></audio>\\n\\n<table class=\"links\">\\n    <td>\\n        \\n            <a href=\"https://www.reddit.com/r/NHKEasyNews/comments/jt9c1v/11132020_ホンダ_高速道路が混んでいるとき自動で運転できる車を売る/\">/r/NHKEasyNews</a></td>\\n        \\n    </td>\\n    <td>\\n    \\n        <a href=\"https://www3.nhk.or.jp/news/easy/k10012705771000/k10012705771000.html\">Original</a>\\n    \\n    </td>\\n    <td>\\n        <a href=\"/story/4300/\" class=\"permalink\">Permalink</a>\\n    </td>\\n</table>\\n\\n</article>\\n\\n\\n\\n<article lang=ja>\\n<h3>コロナウイルスが<ruby>広<rt>ひろ</rt></ruby>がる\\u3000ベッドが<ruby>足<rt>た</rt></ruby>りなくなることが<ruby>心配<rt>しんぱい</rt></ruby></h3>\\n<h4><a href=\"/story/4299/\"><time datetime=\"2020-11-13T03:00:00+00:00\">2020-11-13 12:00:00 +0900 (JST)</time></a></h4>\\n\\n\\n    <img src=\"/media/jpg/k10012706671000.jpg\" alt=\"Story illustration\">\\n\\n<p><ruby>新<rt>あたら</rt></ruby>しいコロナウイルスがうつった<ruby>人<rt>ひと</rt></ruby>は１１<ruby>日<rt>にち</rt></ruby>、１５４６<ruby>人<rt>にん</rt></ruby>いました。<ruby>日本医師会<rt>にほんいしかい</rt></ruby>は、コロナウイルスが<ruby>広<rt>ひろ</rt></ruby>がっていて、<ruby>今<rt>いま</rt></ruby>は３<ruby>回<rt>かい</rt></ruby><ruby>目<rt>め</rt></ruby>の<ruby>大<rt>おお</rt></ruby>きな<ruby>波<rt>なみ</rt></ruby>かもしれないと<ruby>言<rt>い</rt></ruby>っています。</p>\\n<p><ruby>厚生労働省<rt>こうせいろうどうしょう</rt></ruby>によると、６つの<ruby>都<rt>と</rt></ruby><ruby>府<rt>ふ</rt></ruby><ruby>県<rt>けん</rt></ruby>で、コロナウイルスで<ruby>病気<rt>びょうき</rt></ruby>になった<ruby>人<rt>ひと</rt></ruby>のために<ruby>用意<rt>ようい</rt></ruby>した<ruby>病院<rt>びょういん</rt></ruby>のベッドの２５％<ruby>以上<rt>いじょう</rt></ruby>が<ruby>使<rt>つか</rt></ruby>われています。<ruby>青森県<rt>あおもりけん</rt></ruby>と<ruby>宮城県<rt>みやぎけん</rt></ruby>、<ruby>東京都<rt>とうきょうと</rt></ruby>、<ruby>大阪府<rt>おおさかふ</rt></ruby>、<ruby>岡山県<rt>おかやまけん</rt></ruby>、<ruby>沖縄県<rt>おきなわけん</rt></ruby>です。</p>\\n<p><ruby>政府<rt>せいふ</rt></ruby>は、<ruby>日本<rt>にっぽん</rt></ruby>での<ruby>新<rt>あたら</rt></ruby>しいコロナウイルスの<ruby>広<rt>ひろ</rt></ruby>がり<ruby>方<rt>かた</rt></ruby>を、４つに<ruby>分<rt>わ</rt></ruby>けています。<ruby>使<rt>つか</rt></ruby>っているベッドが２５％<ruby>以上<rt>いじょう</rt></ruby>になることは、２<ruby>番目<rt>ばんめ</rt></ruby>にひどい<ruby>広<rt>ひろ</rt></ruby>がり<ruby>方<rt>かた</rt></ruby>に<ruby>入<rt>はい</rt></ruby>っています。</p>\\n<p><ruby>政府<rt>せいふ</rt></ruby>の<ruby>専門家<rt>せんもんか</rt></ruby>の<ruby>会議<rt>かいぎ</rt></ruby>の<ruby>尾身<rt>おみ</rt></ruby><ruby>茂<rt>しげる</rt></ruby><ruby>会長<rt>かいちょう</rt></ruby>は「このままではコロナウイルスが<ruby>大<rt>おお</rt></ruby>きく<ruby>広<rt>ひろ</rt></ruby>がって、<ruby>病院<rt>びょういん</rt></ruby>が<ruby>大変<rt>たいへん</rt></ruby>になるかもしれない」と<ruby>言<rt>い</rt></ruby>いました。</p>\\n<audio src=\"/media/mp3/k10012706671000.mp3\" controls preload=\"none\"></audio>\\n\\n<table class=\"links\">\\n    <td>\\n        \\n            <a href=\"https://www.reddit.com/r/NHKEasyNews/comments/jt9c1u/11132020_コロナウイルスが広がる_ベッドが足りなくなることが心配/\">/r/NHKEasyNews</a></td>\\n        \\n    </td>\\n    <td>\\n    \\n        <a href=\"https://www3.nhk.or.jp/news/easy/k10012706671000/k10012706671000.html\">Original</a>\\n    \\n    </td>\\n    <td>\\n        <a href=\"/story/4299/\" class=\"permalink\">Permalink</a>\\n    </td>\\n</table>\\n\\n</article>\\n\\n\\n<nav><ul>\\n    <li><a href=\"/2020/11/12/\">Older stories</a></li>\\n    <li><a href=\"/2020/11/13/\">2020-11-13</a></li>\\n    <li></li>\\n</ul></nav>\\n\\n<script>\\nvar edict_filename = \\'2020-11-13.dat\\';\\n</script>\\n<script src=\"/static/scripts.js\"></script>\\n\\n</main>\\n\\n<script async src=\"https://www.googletagmanager.com/gtag/js?id=UA-113732431-1\"></script>\\n<script>\\nwindow.dataLayer = window.dataLayer || [];\\nfunction gtag(){dataLayer.push(arguments);}\\ngtag(\\'js\\', new Date());\\ngtag(\\'config\\', \\'UA-113732431-1\\');\\n</script>\\n\\n</body>\\n</html>\\n'"
      ]
     },
     "execution_count": 15,
     "metadata": {},
     "output_type": "execute_result"
    }
   ],
   "source": [
    "response.text"
   ]
  },
  {
   "cell_type": "code",
   "execution_count": 16,
   "metadata": {},
   "outputs": [],
   "source": [
    "soup = BeautifulSoup(response.text, 'lxml')"
   ]
  },
  {
   "cell_type": "code",
   "execution_count": 17,
   "metadata": {},
   "outputs": [
    {
     "data": {
      "text/plain": [
       "<!DOCTYPE html>\n",
       "<html lang=\"en\">\n",
       "<head>\n",
       "<meta charset=\"utf-8\"/>\n",
       "<meta content=\"width=device-width, initial-scale=1.0, user-scalable=yes\" name=\"viewport\"/>\n",
       "<meta content=\"w150z0\" name=\"flattr:id\"/>\n",
       "<title>Easier Japanese Practice | NHK News Web Easier</title>\n",
       "<meta content=\"NHKEasier\" property=\"og:site_name\"/>\n",
       "<meta content=\"Easier Japanese Practice\" property=\"og:title\"/>\n",
       "<meta content=\"article\" property=\"og:type\"/>\n",
       "<meta content=\"https://nhkeasier.com/\" property=\"og:url\"/>\n",
       "<meta content=\"Come practice reading and listening to Japanese with recent news stories! Simple vocabulary, simple kanji and simple sentence structures, as well as kanji readings (furigana) and an integrated dictionary will let you train until you get more comfortable for harder materials.\" name=\"description\"/>\n",
       "<meta content=\"Come practice reading and listening to Japanese with recent news stories! Simple vocabulary, simple kanji and simple sentence structures, as well as kanji readings (furigana) and an integrated dictionary will let you train until you get more comfortable for harder materials.\" property=\"og:description\"/>\n",
       "<meta content=\"https://nhkeasier.com/media/jpg/k10012707651000.jpg\" property=\"og:image\"/>\n",
       "<meta content=\"640\" property=\"og:image:width\"/>\n",
       "<meta content=\"360\" property=\"og:image:height\"/>\n",
       "<meta content=\"summary_large_image\" name=\"twitter:card\"/>\n",
       "<meta content=\"player\" name=\"twitter:card\"/>\n",
       "<meta content=\"https://nhkeasier.com/player/4302/\" name=\"twitter:player\"/>\n",
       "<meta content=\"640\" name=\"twitter:player:width\"/>\n",
       "<meta content=\"360\" name=\"twitter:player:height\"/>\n",
       "<link href=\"/static/favicon.png\" rel=\"icon\"/>\n",
       "<link href=\"/static/bootstrap.min.css\" rel=\"stylesheet\"/>\n",
       "<link href=\"/static/style.css\" rel=\"stylesheet\"/>\n",
       "<link href=\"/feed/\" rel=\"alternate\" title=\"NHKEasier Stories\" type=\"application/rss+xml\"/>\n",
       "</head>\n",
       "<body>\n",
       "<header>\n",
       "<h1><a href=\"/\">NHK News Web <ruby>Easier<rt>イーシア</rt></ruby></a></h1>\n",
       "<div id=\"ruby-toggles\">\n",
       "<ul>\n",
       "<li>\n",
       "<label>\n",
       "<input name=\"ruby-toggle\" type=\"radio\" value=\"always\"/>\n",
       "<img alt=\"Always show furigana\" src=\"/static/always.svg\" title=\"Always show furigana\"/>\n",
       "</label>\n",
       "</li>\n",
       "<li>\n",
       "<label>\n",
       "<input checked=\"\" name=\"ruby-toggle\" type=\"radio\" value=\"hover\"/>\n",
       "<img alt=\"Show furigana on hover\" src=\"/static/hover.svg\" title=\"Show on hover furigana\"/>\n",
       "</label>\n",
       "</li>\n",
       "<li>\n",
       "<label>\n",
       "<input name=\"ruby-toggle\" type=\"radio\" value=\"never\"/>\n",
       "<img alt=\"Never show furigana\" src=\"/static/never.svg\" title=\"Never show furigana\"/>\n",
       "</label>\n",
       "</li>\n",
       "</ul>\n",
       "<div id=\"ruby-toggles-helper\">\n",
       "            Press <span class=\"key\">F</span> to toggle furigana\n",
       "        </div>\n",
       "</div>\n",
       "<nav>\n",
       "<ul>\n",
       "<li><a href=\"/\">Home</a></li>\n",
       "<li><a href=\"/contact/\">Contact</a></li>\n",
       "<li><a href=\"/about/\">About</a></li>\n",
       "</ul>\n",
       "</nav>\n",
       "</header>\n",
       "<main>\n",
       "<h2>Latest Stories</h2>\n",
       "<p>\n",
       "Practice Japanese on real news from <a href=\"https://www3.nhk.or.jp/news/easy/\">NHK News Web Easy</a> even more\n",
       "easily. Just try moving your cursor above kanji and difficult words (desktop\n",
       "and laptops) or touching them (smartphones and tablets). You can also subscribe to the\n",
       "<a href=\"/feed/\">RSS feed<img alt=\"RSS feed\" class=\"feed-icon\" src=\"/static/feed-icon.svg\"/></a>.\n",
       "</p>\n",
       "<p>\n",
       "For some more stories, visit <a href=\"https://slow-communication.jp/\">Slow Communication</a>.\n",
       "</p>\n",
       "<nav><ul>\n",
       "<li><a href=\"/2020/11/12/\">Older stories</a></li>\n",
       "<li><a href=\"/2020/11/13/\">2020-11-13</a></li>\n",
       "<li></li>\n",
       "</ul></nav>\n",
       "<article lang=\"ja\">\n",
       "<h3>ソニーとマイクロソフトが<ruby>新<rt>あたら</rt></ruby>しいゲームの<ruby>機械<rt>きかい</rt></ruby>を<ruby>売<rt>う</rt></ruby>り<ruby>始<rt>はじ</rt></ruby>める</h3>\n",
       "<h4><a href=\"/story/4302/\"><time datetime=\"2020-11-13T07:50:00+00:00\">2020-11-13 16:50:00 +0900 (JST)</time></a></h4>\n",
       "<video controls=\"\" poster=\"/media/jpg/k10012707651000.jpg\" preload=\"none\" src=\"/media/mp4/k10012707651000.reencoded.mp4\"></video>\n",
       "<p><ruby>新<rt>あたら</rt></ruby>しいコロナウイルスの<ruby>問題<rt>もんだい</rt></ruby>があって、<ruby>家<rt>いえ</rt></ruby>でゲームを<ruby>楽<rt>たの</rt></ruby>しむ<ruby>人<rt>ひと</rt></ruby>が<ruby>増<rt>ふ</rt></ruby>えています。ソニーとマイクロソフトは、２０１３<ruby>年<rt>ねん</rt></ruby>のあと<ruby>初<rt>はじ</rt></ruby>めて、<ruby>新<rt>あたら</rt></ruby>しいゲームの<ruby>機械<rt>きかい</rt></ruby>を<ruby>売<rt>う</rt></ruby>り<ruby>始<rt>はじ</rt></ruby>めました。</p>\n",
       "<p>ソニーは１２<ruby>日<rt>にち</rt></ruby>、「プレイステーション５」を<ruby>売<rt>う</rt></ruby>り<ruby>始<rt>はじ</rt></ruby>めました。<ruby>店<rt>みせ</rt></ruby>に<ruby>人<rt>ひと</rt></ruby>がたくさん<ruby>集<rt>あつ</rt></ruby>まらないように、<ruby>予約<rt>よやく</rt></ruby>していない<ruby>人<rt>ひと</rt></ruby>に<ruby>店<rt>みせ</rt></ruby>で<ruby>売<rt>う</rt></ruby>ることはやめました。<ruby>手<rt>て</rt></ruby>に<ruby>持<rt>も</rt></ruby>つコントローラーがゲームと<ruby>一緒<rt>いっしょ</rt></ruby>に<ruby>揺<rt>ゆ</rt></ruby>れたり、ボタンを<ruby>押<rt>お</rt></ruby>すとき<ruby>強<rt>つよ</rt></ruby>い<ruby>力<rt>ちから</rt></ruby>が<ruby>必要<rt>ひつよう</rt></ruby>だったりして、<ruby>体<rt>からだ</rt></ruby>で<ruby>感<rt>かん</rt></ruby>じながら<ruby>楽<rt>たの</rt></ruby>しむことができます。</p>\n",
       "<p>マイクロソフトは<ruby>１０日<rt>とおか</rt></ruby>、<ruby>新<rt>あたら</rt></ruby>しい「Ｘｂｏｘ」を<ruby>売<rt>う</rt></ruby>り<ruby>始<rt>はじ</rt></ruby>めました。<ruby>映像<rt>えいぞう</rt></ruby>がきれいで、ゲームの<ruby>動<rt>うご</rt></ruby>きがとても<ruby>速<rt>はや</rt></ruby>いです。</p>\n",
       "<p><ruby>今年<rt>ことし</rt></ruby>は、クリスマスのプレゼントなどにゲームの<ruby>機械<rt>きかい</rt></ruby>を<ruby>買<rt>か</rt></ruby>う<ruby>人<rt>ひと</rt></ruby>が<ruby>多<rt>おお</rt></ruby>くなりそうで、ゲームの<ruby>会社<rt>かいしゃ</rt></ruby>の<ruby>競争<rt>きょうそう</rt></ruby>が<ruby>激<rt>はげ</rt></ruby>しくなっています。</p>\n",
       "<audio controls=\"\" preload=\"none\" src=\"/media/mp3/k10012707651000.mp3\"></audio>\n",
       "<table class=\"links\">\n",
       "<td>\n",
       "<a href=\"https://www.reddit.com/r/NHKEasyNews/comments/jtd61a/11132020_ソニーとマイクロソフトが新しいゲームの機械を売り始める/\">/r/NHKEasyNews</a></td>\n",
       "<td>\n",
       "<a href=\"https://www3.nhk.or.jp/news/easy/k10012707651000/k10012707651000.html\">Original</a>\n",
       "</td>\n",
       "<td>\n",
       "<a class=\"permalink\" href=\"/story/4302/\">Permalink</a>\n",
       "</td>\n",
       "</table>\n",
       "</article>\n",
       "<article lang=\"ja\">\n",
       "<h3><ruby>新<rt>あたら</rt></ruby>しいコロナウイルス　「<ruby>変化<rt>へんか</rt></ruby>したウイルスはうつりやすい」</h3>\n",
       "<h4><a href=\"/story/4301/\"><time datetime=\"2020-11-13T07:50:00+00:00\">2020-11-13 16:50:00 +0900 (JST)</time></a></h4>\n",
       "<img alt=\"Story illustration\" src=\"/media/jpg/k10012709341000.jpg\"/>\n",
       "<p><ruby>新<rt>あたら</rt></ruby>しいコロナウイルスがうつった<ruby>人<rt>ひと</rt></ruby>は１２<ruby>日<rt>にち</rt></ruby>、１６６１<ruby>人<rt>にん</rt></ruby>いました。<ruby>今<rt>いま</rt></ruby>までで、いちばん<ruby>多<rt>おお</rt></ruby>くなりました。</p>\n",
       "<p><ruby>東京大学<rt>とうきょうだいがく</rt></ruby>などのグループは、<ruby>中国<rt>ちゅうごく</rt></ruby>の<ruby>武漢<rt>ぶかん</rt></ruby>で<ruby>最初<rt>さいしょ</rt></ruby>に<ruby>見<rt>み</rt></ruby>つかった<ruby>新<rt>あたら</rt></ruby>しいコロナウイルスと、たんぱく<ruby>質<rt>しつ</rt></ruby>が<ruby>少<rt>すこ</rt></ruby>し<ruby>変化<rt>へんか</rt></ruby>したウイルスを<ruby>比<rt>くら</rt></ruby>べる<ruby>実験<rt>じっけん</rt></ruby>をしました。<ruby>今<rt>いま</rt></ruby><ruby>世界中<rt>せかいじゅう</rt></ruby>で<ruby>広<rt>ひろ</rt></ruby>がっているのは、<ruby>変化<rt>へんか</rt></ruby>したウイルスです。</p>\n",
       "<p>グループは、２つのウイルスが、<ruby>隣<rt>となり</rt></ruby>のおりにいるハムスターにどのくらいうつるか<ruby>調<rt>しら</rt></ruby>べました。<ruby>２日<rt>ふつか</rt></ruby>あとにチェックすると、<ruby>最初<rt>さいしょ</rt></ruby>のウイルスは<ruby>隣<rt>となり</rt></ruby>のおりにいるハムスターにうつりませんでした。<ruby>変化<rt>へんか</rt></ruby>したウイルスは、８<ruby>匹<rt>ぴき</rt></ruby>のうち５<ruby>匹<rt>ひき</rt></ruby>にうつりました。グループは、<ruby>変化<rt>へんか</rt></ruby>したウイルスのほうが、うつりやすいと<ruby>考<rt>かんが</rt></ruby>えています。</p>\n",
       "<p>グループは、<ruby>変化<rt>へんか</rt></ruby>したウイルスが<ruby>短<rt>みじか</rt></ruby>い<ruby>時間<rt>じかん</rt></ruby>で<ruby>広<rt>ひろ</rt></ruby>がった<ruby>理由<rt>りゆう</rt></ruby>がわかったと<ruby>言<rt>い</rt></ruby>っています。</p>\n",
       "<audio controls=\"\" preload=\"none\" src=\"/media/mp3/k10012709341000.mp3\"></audio>\n",
       "<table class=\"links\">\n",
       "<td>\n",
       "<a href=\"https://www.reddit.com/r/NHKEasyNews/comments/jtd619/11132020_新しいコロナウイルス_変化したウイルスはうつりやすい/\">/r/NHKEasyNews</a></td>\n",
       "<td>\n",
       "<a href=\"https://www3.nhk.or.jp/news/easy/k10012709341000/k10012709341000.html\">Original</a>\n",
       "</td>\n",
       "<td>\n",
       "<a class=\"permalink\" href=\"/story/4301/\">Permalink</a>\n",
       "</td>\n",
       "</table>\n",
       "</article>\n",
       "<article lang=\"ja\">\n",
       "<h3>ホンダ　<ruby>高速道路<rt>こうそくどうろ</rt></ruby>が<ruby>混<rt>こ</rt></ruby>んでいるとき<ruby>自動<rt>じどう</rt></ruby>で<ruby>運転<rt>うんてん</rt></ruby>できる<ruby>車<rt>くるま</rt></ruby>を<ruby>売<rt>う</rt></ruby>る</h3>\n",
       "<h4><a href=\"/story/4300/\"><time datetime=\"2020-11-13T03:00:00+00:00\">2020-11-13 12:00:00 +0900 (JST)</time></a></h4>\n",
       "<img alt=\"Story illustration\" src=\"/media/jpg/k10012705771000.jpg\"/>\n",
       "<p>ホンダは、<ruby>高速道路<rt>こうそくどうろ</rt></ruby>が<ruby>混<rt>こ</rt></ruby>んでいて<ruby>時速<rt>じそく</rt></ruby>５０ｋｍ<ruby>以下<rt>いか</rt></ruby>で<ruby>走<rt>はし</rt></ruby>っている<ruby>場合<rt>ばあい</rt></ruby>などに、<ruby>人<rt>ひと</rt></ruby>が<ruby>運転<rt>うんてん</rt></ruby>しなくても<ruby>全部<rt>ぜんぶ</rt></ruby><ruby>自動<rt>じどう</rt></ruby>で<ruby>走<rt>はし</rt></ruby>ることができる<ruby>車<rt>くるま</rt></ruby>を<ruby>作<rt>つく</rt></ruby>りました。</p>\n",
       "<p><ruby>国土交通省<rt>こくどこうつうしょう</rt></ruby>は、ホンダの<ruby>車<rt>くるま</rt></ruby>の<ruby>安全<rt>あんぜん</rt></ruby>をチェックして、<ruby>国<rt>くに</rt></ruby>が<ruby>決<rt>き</rt></ruby>めた<ruby>基準<rt>きじゅん</rt></ruby>に<ruby>合<rt>あ</rt></ruby>っていると<ruby>言<rt>い</rt></ruby>いました。ホンダは<ruby>来年<rt>らいねん</rt></ruby>３<ruby>月<rt>がつ</rt></ruby>の<ruby>終<rt>お</rt></ruby>わりまでに<ruby>車<rt>くるま</rt></ruby>を<ruby>売<rt>う</rt></ruby>り<ruby>始<rt>はじ</rt></ruby>めようと<ruby>考<rt>かんが</rt></ruby>えています。</p>\n",
       "<p><ruby>自動<rt>じどう</rt></ruby><ruby>運転<rt>うんてん</rt></ruby>の<ruby>技術<rt>ぎじゅつ</rt></ruby>は、どのくらい<ruby>自動<rt>じどう</rt></ruby>で<ruby>運転<rt>うんてん</rt></ruby>できるかで５つのレベルがあります。ホンダの<ruby>車<rt>くるま</rt></ruby>はレベル３です。レベル３の<ruby>車<rt>くるま</rt></ruby>を<ruby>売<rt>う</rt></ruby>るのは<ruby>世界<rt>せかい</rt></ruby>で<ruby>初<rt>はじ</rt></ruby>めてです。</p>\n",
       "<p><ruby>世界<rt>せかい</rt></ruby>ではＩＴの<ruby>会社<rt>かいしゃ</rt></ruby>なども<ruby>自動<rt>じどう</rt></ruby><ruby>運転<rt>うんてん</rt></ruby>の<ruby>車<rt>くるま</rt></ruby>を<ruby>作<rt>つく</rt></ruby>ろうとしていて、<ruby>激<rt>はげ</rt></ruby>しい<ruby>競争<rt>きょうそう</rt></ruby>になっています。</p>\n",
       "<audio controls=\"\" preload=\"none\" src=\"/media/mp3/k10012705771000.mp3\"></audio>\n",
       "<table class=\"links\">\n",
       "<td>\n",
       "<a href=\"https://www.reddit.com/r/NHKEasyNews/comments/jt9c1v/11132020_ホンダ_高速道路が混んでいるとき自動で運転できる車を売る/\">/r/NHKEasyNews</a></td>\n",
       "<td>\n",
       "<a href=\"https://www3.nhk.or.jp/news/easy/k10012705771000/k10012705771000.html\">Original</a>\n",
       "</td>\n",
       "<td>\n",
       "<a class=\"permalink\" href=\"/story/4300/\">Permalink</a>\n",
       "</td>\n",
       "</table>\n",
       "</article>\n",
       "<article lang=\"ja\">\n",
       "<h3>コロナウイルスが<ruby>広<rt>ひろ</rt></ruby>がる　ベッドが<ruby>足<rt>た</rt></ruby>りなくなることが<ruby>心配<rt>しんぱい</rt></ruby></h3>\n",
       "<h4><a href=\"/story/4299/\"><time datetime=\"2020-11-13T03:00:00+00:00\">2020-11-13 12:00:00 +0900 (JST)</time></a></h4>\n",
       "<img alt=\"Story illustration\" src=\"/media/jpg/k10012706671000.jpg\"/>\n",
       "<p><ruby>新<rt>あたら</rt></ruby>しいコロナウイルスがうつった<ruby>人<rt>ひと</rt></ruby>は１１<ruby>日<rt>にち</rt></ruby>、１５４６<ruby>人<rt>にん</rt></ruby>いました。<ruby>日本医師会<rt>にほんいしかい</rt></ruby>は、コロナウイルスが<ruby>広<rt>ひろ</rt></ruby>がっていて、<ruby>今<rt>いま</rt></ruby>は３<ruby>回<rt>かい</rt></ruby><ruby>目<rt>め</rt></ruby>の<ruby>大<rt>おお</rt></ruby>きな<ruby>波<rt>なみ</rt></ruby>かもしれないと<ruby>言<rt>い</rt></ruby>っています。</p>\n",
       "<p><ruby>厚生労働省<rt>こうせいろうどうしょう</rt></ruby>によると、６つの<ruby>都<rt>と</rt></ruby><ruby>府<rt>ふ</rt></ruby><ruby>県<rt>けん</rt></ruby>で、コロナウイルスで<ruby>病気<rt>びょうき</rt></ruby>になった<ruby>人<rt>ひと</rt></ruby>のために<ruby>用意<rt>ようい</rt></ruby>した<ruby>病院<rt>びょういん</rt></ruby>のベッドの２５％<ruby>以上<rt>いじょう</rt></ruby>が<ruby>使<rt>つか</rt></ruby>われています。<ruby>青森県<rt>あおもりけん</rt></ruby>と<ruby>宮城県<rt>みやぎけん</rt></ruby>、<ruby>東京都<rt>とうきょうと</rt></ruby>、<ruby>大阪府<rt>おおさかふ</rt></ruby>、<ruby>岡山県<rt>おかやまけん</rt></ruby>、<ruby>沖縄県<rt>おきなわけん</rt></ruby>です。</p>\n",
       "<p><ruby>政府<rt>せいふ</rt></ruby>は、<ruby>日本<rt>にっぽん</rt></ruby>での<ruby>新<rt>あたら</rt></ruby>しいコロナウイルスの<ruby>広<rt>ひろ</rt></ruby>がり<ruby>方<rt>かた</rt></ruby>を、４つに<ruby>分<rt>わ</rt></ruby>けています。<ruby>使<rt>つか</rt></ruby>っているベッドが２５％<ruby>以上<rt>いじょう</rt></ruby>になることは、２<ruby>番目<rt>ばんめ</rt></ruby>にひどい<ruby>広<rt>ひろ</rt></ruby>がり<ruby>方<rt>かた</rt></ruby>に<ruby>入<rt>はい</rt></ruby>っています。</p>\n",
       "<p><ruby>政府<rt>せいふ</rt></ruby>の<ruby>専門家<rt>せんもんか</rt></ruby>の<ruby>会議<rt>かいぎ</rt></ruby>の<ruby>尾身<rt>おみ</rt></ruby><ruby>茂<rt>しげる</rt></ruby><ruby>会長<rt>かいちょう</rt></ruby>は「このままではコロナウイルスが<ruby>大<rt>おお</rt></ruby>きく<ruby>広<rt>ひろ</rt></ruby>がって、<ruby>病院<rt>びょういん</rt></ruby>が<ruby>大変<rt>たいへん</rt></ruby>になるかもしれない」と<ruby>言<rt>い</rt></ruby>いました。</p>\n",
       "<audio controls=\"\" preload=\"none\" src=\"/media/mp3/k10012706671000.mp3\"></audio>\n",
       "<table class=\"links\">\n",
       "<td>\n",
       "<a href=\"https://www.reddit.com/r/NHKEasyNews/comments/jt9c1u/11132020_コロナウイルスが広がる_ベッドが足りなくなることが心配/\">/r/NHKEasyNews</a></td>\n",
       "<td>\n",
       "<a href=\"https://www3.nhk.or.jp/news/easy/k10012706671000/k10012706671000.html\">Original</a>\n",
       "</td>\n",
       "<td>\n",
       "<a class=\"permalink\" href=\"/story/4299/\">Permalink</a>\n",
       "</td>\n",
       "</table>\n",
       "</article>\n",
       "<nav><ul>\n",
       "<li><a href=\"/2020/11/12/\">Older stories</a></li>\n",
       "<li><a href=\"/2020/11/13/\">2020-11-13</a></li>\n",
       "<li></li>\n",
       "</ul></nav>\n",
       "<script>\n",
       "var edict_filename = '2020-11-13.dat';\n",
       "</script>\n",
       "<script src=\"/static/scripts.js\"></script>\n",
       "</main>\n",
       "<script async=\"\" src=\"https://www.googletagmanager.com/gtag/js?id=UA-113732431-1\"></script>\n",
       "<script>\n",
       "window.dataLayer = window.dataLayer || [];\n",
       "function gtag(){dataLayer.push(arguments);}\n",
       "gtag('js', new Date());\n",
       "gtag('config', 'UA-113732431-1');\n",
       "</script>\n",
       "</body>\n",
       "</html>"
      ]
     },
     "execution_count": 17,
     "metadata": {},
     "output_type": "execute_result"
    }
   ],
   "source": [
    "soup"
   ]
  },
  {
   "cell_type": "code",
   "execution_count": 30,
   "metadata": {},
   "outputs": [],
   "source": [
    "latest = soup.find('a', {'class': 'permalink'})"
   ]
  },
  {
   "cell_type": "code",
   "execution_count": 36,
   "metadata": {},
   "outputs": [
    {
     "data": {
      "text/plain": [
       "'4302'"
      ]
     },
     "execution_count": 36,
     "metadata": {},
     "output_type": "execute_result"
    }
   ],
   "source": [
    "latest.get('href')[-5:-1]"
   ]
  },
  {
   "cell_type": "code",
   "execution_count": 29,
   "metadata": {},
   "outputs": [
    {
     "data": {
      "text/plain": [
       "<a class=\"permalink\" href=\"/story/4302/\">Permalink</a>"
      ]
     },
     "execution_count": 29,
     "metadata": {},
     "output_type": "execute_result"
    }
   ],
   "source": []
  },
  {
   "cell_type": "code",
   "execution_count": null,
   "metadata": {},
   "outputs": [],
   "source": []
  }
 ],
 "metadata": {
  "kernelspec": {
   "display_name": "Python 3",
   "language": "python",
   "name": "python3"
  },
  "language_info": {
   "codemirror_mode": {
    "name": "ipython",
    "version": 3
   },
   "file_extension": ".py",
   "mimetype": "text/x-python",
   "name": "python",
   "nbconvert_exporter": "python",
   "pygments_lexer": "ipython3",
   "version": "3.8.3"
  }
 },
 "nbformat": 4,
 "nbformat_minor": 4
}
